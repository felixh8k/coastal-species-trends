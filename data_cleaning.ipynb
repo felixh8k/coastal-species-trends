{
 "cells": [
  {
   "cell_type": "code",
   "execution_count": 25,
   "id": "6da66d9d",
   "metadata": {},
   "outputs": [
    {
     "name": "stderr",
     "output_type": "stream",
     "text": [
      "C:\\Users\\Felix Hook\\AppData\\Local\\Temp\\ipykernel_2008\\12118433.py:3: DtypeWarning: Columns (10,14,20,21,36,37,38,39,40,41,44,50,127,129,130,131,132,133,134,135,136,137,138,139,140,141,142,143,144,145,146,147,148,149,150,151,152,153,154,155,156,157,158,159,160,161,162,163,164,165,166,167,168,169,170,171,172,173,174,175,176,177,178,179,180,181,182,183,184,185,186,187,188,189,190,191,192,193,194,195,196,197,198,199,200,201,202,203,204,205,206,207,208,209,210,211,212,213,214,215,216,217,218,219,220,221,222,223,224,225,226,227,228,229,231) have mixed types. Specify dtype option on import or set low_memory=False.\n",
      "  df = pd.read_csv(\"species_occurrence.csv\")\n"
     ]
    },
    {
     "name": "stdout",
     "output_type": "stream",
     "text": [
      "<class 'pandas.core.frame.DataFrame'>\n",
      "RangeIndex: 68602 entries, 0 to 68601\n",
      "Columns: 233 entries, key to acceptedNameUsageID\n",
      "dtypes: float64(2), int64(6), object(225)\n",
      "memory usage: 122.0+ MB\n",
      "None\n",
      "          key                            datasetKey  \\\n",
      "0  4510070577  50c9509d-22c7-4a22-a47d-8c48425ef4a7   \n",
      "1  4512238680  50c9509d-22c7-4a22-a47d-8c48425ef4a7   \n",
      "2  4516323776  50c9509d-22c7-4a22-a47d-8c48425ef4a7   \n",
      "3  4597188954  50c9509d-22c7-4a22-a47d-8c48425ef4a7   \n",
      "4  4599839441  50c9509d-22c7-4a22-a47d-8c48425ef4a7   \n",
      "\n",
      "                       publishingOrgKey                       installationKey  \\\n",
      "0  28eb1a3f-1c15-4a95-931a-4af90ecb574d  997448a8-f762-11e1-a439-00145eb45e9a   \n",
      "1  28eb1a3f-1c15-4a95-931a-4af90ecb574d  997448a8-f762-11e1-a439-00145eb45e9a   \n",
      "2  28eb1a3f-1c15-4a95-931a-4af90ecb574d  997448a8-f762-11e1-a439-00145eb45e9a   \n",
      "3  28eb1a3f-1c15-4a95-931a-4af90ecb574d  997448a8-f762-11e1-a439-00145eb45e9a   \n",
      "4  28eb1a3f-1c15-4a95-931a-4af90ecb574d  997448a8-f762-11e1-a439-00145eb45e9a   \n",
      "\n",
      "                 hostingOrganizationKey publishingCountry     protocol  \\\n",
      "0  28eb1a3f-1c15-4a95-931a-4af90ecb574d                MX  DWC_ARCHIVE   \n",
      "1  28eb1a3f-1c15-4a95-931a-4af90ecb574d                US  DWC_ARCHIVE   \n",
      "2  28eb1a3f-1c15-4a95-931a-4af90ecb574d                US  DWC_ARCHIVE   \n",
      "3  28eb1a3f-1c15-4a95-931a-4af90ecb574d                MX  DWC_ARCHIVE   \n",
      "4  28eb1a3f-1c15-4a95-931a-4af90ecb574d                US  DWC_ARCHIVE   \n",
      "\n",
      "                     lastCrawled                     lastParsed crawlId  ...  \\\n",
      "0  2025-09-22T23:56:44.581+00:00  2025-09-23T15:06:49.564+00:00     560  ...   \n",
      "1  2025-09-22T23:56:44.581+00:00  2025-09-23T13:30:16.144+00:00     560  ...   \n",
      "2  2025-09-22T23:56:44.581+00:00  2025-09-23T11:53:42.858+00:00     560  ...   \n",
      "3  2025-09-22T23:56:44.581+00:00  2025-09-23T13:55:24.827+00:00     560  ...   \n",
      "4  2025-09-22T23:56:44.581+00:00  2025-09-23T13:32:04.149+00:00     560  ...   \n",
      "\n",
      "  ownerInstitutionCode georeferenceSources sampleSizeUnit sampleSizeValue  \\\n",
      "0                  NaN                 NaN            NaN             NaN   \n",
      "1                  NaN                 NaN            NaN             NaN   \n",
      "2                  NaN                 NaN            NaN             NaN   \n",
      "3                  NaN                 NaN            NaN             NaN   \n",
      "4                  NaN                 NaN            NaN             NaN   \n",
      "\n",
      "  acceptedNameUsage  dataGeneralizations  georeferenceProtocol  \\\n",
      "0               NaN                  NaN                   NaN   \n",
      "1               NaN                  NaN                   NaN   \n",
      "2               NaN                  NaN                   NaN   \n",
      "3               NaN                  NaN                   NaN   \n",
      "4               NaN                  NaN                   NaN   \n",
      "\n",
      "   originalNameUsageID  namePublishedIn  acceptedNameUsageID  \n",
      "0                  NaN              NaN                  NaN  \n",
      "1                  NaN              NaN                  NaN  \n",
      "2                  NaN              NaN                  NaN  \n",
      "3                  NaN              NaN                  NaN  \n",
      "4                  NaN              NaN                  NaN  \n",
      "\n",
      "[5 rows x 233 columns]\n"
     ]
    }
   ],
   "source": [
    "import pandas as pd\n",
    "\n",
    "df = pd.read_csv(\"species_occurrence.csv\")\n",
    "print(df.info())\n",
    "print(df.head())"
   ]
  },
  {
   "cell_type": "code",
   "execution_count": null,
   "id": "924f5d24",
   "metadata": {},
   "outputs": [],
   "source": [
    "import numpy as np\n",
    "import re\n",
    "\n",
    "# Drop missing coordinates\n",
    "df = df.dropna(subset=[\"decimalLatitude\", \"decimalLongitude\"])\n",
    "\n",
    "# Try parsing eventDate first\n",
    "df[\"eventDate_parsed\"] = pd.to_datetime(df[\"eventDate\"], errors=\"coerce\", utc=True)\n",
    "\n",
    "# Where parsing failed, try constructing from year/month/day columns\n",
    "mask_missing = df[\"eventDate_parsed\"].isna()\n",
    "\n",
    "if \"year\" in df.columns:\n",
    "    years = pd.to_numeric(df.loc[mask_missing, \"year\"], errors=\"coerce\")\n",
    "    months = pd.to_numeric(df.loc[mask_missing, \"month\"], errors=\"coerce\").fillna(1).astype(int)\n",
    "    days = pd.to_numeric(df.loc[mask_missing, \"day\"], errors=\"coerce\").fillna(1).astype(int)\n",
    "\n",
    "    rebuilt_dates = pd.to_datetime(\n",
    "        dict(year=years, month=months, day=days), errors=\"coerce\", utc=True\n",
    "    )\n",
    "\n",
    "    df.loc[mask_missing, \"eventDate_parsed\"] = rebuilt_dates\n",
    "\n"
   ]
  },
  {
   "cell_type": "code",
   "execution_count": null,
   "id": "811e8077",
   "metadata": {},
   "outputs": [],
   "source": [
    "import re\n",
    "\n",
    "# Function to extract the first 4-digit year starting with \"20\" from any string\n",
    "def extract_year(val):\n",
    "    if pd.isna(val):\n",
    "        return None\n",
    "    match = re.search(r\"(20\\d{2})\", str(val))\n",
    "    return int(match.group(1)) if match else None\n",
    "\n",
    "# Look for misplaced years in \"month\" and \"stateProvince\"\n",
    "years_from_month = df[\"month\"].map(extract_year)\n",
    "years_from_state = df[\"stateProvince\"].map(extract_year)\n",
    "\n",
    "# Priority: month first, then stateProvince\n",
    "misplaced_years = years_from_month.combine_first(years_from_state)\n",
    "\n",
    "# Overwrite eventDate_parsed if a misplaced year exists\n",
    "mask_has_year = misplaced_years.notna()\n",
    "\n",
    "df.loc[mask_has_year, \"eventDate_parsed\"] = pd.to_datetime(\n",
    "    misplaced_years[mask_has_year].astype(int).astype(str),\n",
    "    format=\"%Y\", errors=\"coerce\", utc=True\n",
    ")\n",
    "\n",
    "# Clear out the wrong entries\n",
    "df.loc[years_from_month.notna(), \"month\"] = np.nan\n",
    "df.loc[years_from_state.notna(), \"stateProvince\"] = np.nan\n",
    "\n",
    "# Rebuild cleaned date\n",
    "df[\"eventDate_clean\"] = df[\"eventDate_parsed\"]\n",
    "df[\"year_clean\"] = df[\"eventDate_clean\"].dt.year\n",
    "df[\"month_clean\"] = df[\"eventDate_clean\"].dt.month\n",
    "df[\"day_clean\"] = df[\"eventDate_clean\"].dt.day"
   ]
  },
  {
   "cell_type": "code",
   "execution_count": 27,
   "id": "9518ab59",
   "metadata": {},
   "outputs": [
    {
     "name": "stdout",
     "output_type": "stream",
     "text": [
      "Total records: 68361\n",
      "Valid eventDate_clean: 68302\n",
      "Missing eventDate_clean: 59\n"
     ]
    }
   ],
   "source": [
    "print(\"Total records:\", len(df))\n",
    "print(\"Valid eventDate_clean:\", df[\"eventDate_clean\"].notna().sum())\n",
    "print(\"Missing eventDate_clean:\", df[\"eventDate_clean\"].isna().sum())"
   ]
  },
  {
   "cell_type": "code",
   "execution_count": 28,
   "id": "1cbf0a2f",
   "metadata": {},
   "outputs": [
    {
     "data": {
      "text/plain": [
       "<Axes: xlabel='year_clean'>"
      ]
     },
     "execution_count": 28,
     "metadata": {},
     "output_type": "execute_result"
    },
    {
     "data": {
      "image/png": "[encoded data removed]",
      "text/plain": [
       "<Figure size 640x480 with 1 Axes>"
      ]
     },
     "metadata": {},
     "output_type": "display_data"
    }
   ],
   "source": [
    "df[\"year_clean\"][\n",
    "    (df[\"year_clean\"] >= 2000) & (df[\"year_clean\"] <= 2024)\n",
    "].value_counts().sort_index().plot(kind=\"bar\")"
   ]
  }
 ],
 "metadata": {
  "kernelspec": {
   "display_name": "marine-data",
   "language": "python",
   "name": "python3"
  },
  "language_info": {
   "codemirror_mode": {
    "name": "ipython",
    "version": 3
   },
   "file_extension": ".py",
   "mimetype": "text/x-python",
   "name": "python",
   "nbconvert_exporter": "python",
   "pygments_lexer": "ipython3",
   "version": "3.11.13"
  }
 },
 "nbformat": 4,
 "nbformat_minor": 5
}
